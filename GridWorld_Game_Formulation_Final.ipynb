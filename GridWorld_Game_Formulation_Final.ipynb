{
 "cells": [
  {
   "cell_type": "code",
   "execution_count": 1,
   "metadata": {
    "collapsed": true
   },
   "outputs": [],
   "source": [
    "import os\n",
    "os.environ[\"THEANO_FLAGS\"]='device=gpu1'"
   ]
  },
  {
   "cell_type": "code",
   "execution_count": 2,
   "metadata": {
    "collapsed": false
   },
   "outputs": [
    {
     "name": "stderr",
     "output_type": "stream",
     "text": [
      "/home/ai2-jedi/anaconda2/lib/python2.7/site-packages/matplotlib/font_manager.py:273: UserWarning: Matplotlib is building the font cache using fc-list. This may take a moment.\n",
      "  warnings.warn('Matplotlib is building the font cache using fc-list. This may take a moment.')\n",
      "Using Theano backend.\n",
      "Using gpu device 1: GeForce GTX 980 Ti (CNMeM is disabled, cuDNN Mixed dnn version. The header is from one version, but we link with a different version (4007, 5005))\n"
     ]
    }
   ],
   "source": [
    "from IPython.display import clear_output\n",
    "import random\n",
    "import numpy as np\n",
    "import matplotlib.pyplot as plt\n",
    "%matplotlib inline\n",
    "import math\n",
    "import time\n",
    "import copy\n",
    "from replay_memory import ReplayMemory\n",
    "from grid_world_v2 import GridWorld\n",
    "\n",
    "from keras.models import Sequential\n",
    "from keras.layers.core import Dense, Dropout, Activation\n",
    "from keras.optimizers import RMSprop\n",
    "from keras.optimizers import Adam\n",
    "from keras.models import model_from_json\n",
    "from keras.callbacks import Callback\n",
    "from random import shuffle\n",
    "\n",
    "from keras.layers import MaxPooling2D, Flatten\n",
    "from keras.layers import Convolution2D"
   ]
  },
  {
   "cell_type": "code",
   "execution_count": 3,
   "metadata": {
    "collapsed": false
   },
   "outputs": [
    {
     "name": "stdout",
     "output_type": "stream",
     "text": [
      " ------------------------\n",
      "|    .    .    .    .    |\n",
      "|    .    . C1 .    . C2 |\n",
      "|    .    . C3 .    .    |\n",
      "|    .    .    .    .    |\n",
      "|    .    .    .    .    |\n",
      " ------------------------\n"
     ]
    }
   ],
   "source": [
    "grid_world = GridWorld()\n",
    "grid_world.print_grid()"
   ]
  },
  {
   "cell_type": "markdown",
   "metadata": {},
   "source": [
    "## DQN Class"
   ]
  },
  {
   "cell_type": "code",
   "execution_count": 4,
   "metadata": {
    "collapsed": true
   },
   "outputs": [],
   "source": [
    "class LossHistory(Callback):\n",
    "    def on_train_begin(self, logs={}):\n",
    "        self.losses = []\n",
    "\n",
    "    def on_batch_end(self, batch, logs={}):\n",
    "        self.losses.append(logs.get('loss'))"
   ]
  },
  {
   "cell_type": "code",
   "execution_count": 5,
   "metadata": {
    "collapsed": false
   },
   "outputs": [],
   "source": [
    "class DQN(object):\n",
    "    def __init__(self, gamma = 0.975,epsilon = 1, epsilon_decay = .99, terminal_reward = 10, env = None,\n",
    "        memory = None, reward_discount_factor = 0.0, model_name=None, total_cars = 3, grid_size = 6):\n",
    "        \n",
    "        self.env = env\n",
    "        self.losses = []\n",
    "        self.all_games_history = []\n",
    "        self.replay = memory\n",
    "        self.gamma = gamma\n",
    "        self.epsilon = epsilon\n",
    "        self.epsilon_decay = epsilon_decay\n",
    "        self.reward_discount_factor = reward_discount_factor\n",
    "        self.terminal_reward = terminal_reward\n",
    "        self.grid_size = grid_size\n",
    "        self.total_cars = total_cars\n",
    "        self.model = self.loadModel(model_name)\n",
    "    \n",
    "    def loadModel(self,model_name):\n",
    "        if model_name == 'Naive':\n",
    "            model = 'Naive'\n",
    "            return model\n",
    "        else:\n",
    "#             model = Sequential()\n",
    "#             model.add(Dense(256, init='lecun_uniform', input_shape=(self.env.observation_shape,)))\n",
    "#             model.add(Activation('relu'))\n",
    "#             model.add(Dropout(0.2))\n",
    "#             model.add(Dense(256, init='lecun_uniform'))\n",
    "#             model.add(Activation('relu'))\n",
    "#             model.add(Dropout(0.2))\n",
    "#             model.add(Dense(5, init='lecun_uniform'))\n",
    "#             model.add(Activation('linear')) \n",
    "            model = Sequential()\n",
    "            model.add(Convolution2D(32, 3, 3, input_shape=(4, env.grid_size, env.grid_size),activation='relu'))\n",
    "            model.add(Convolution2D(32, 3, 3, activation='relu'))\n",
    "            model.add(Convolution2D(32, 3, 3,activation='relu'))\n",
    "            model.add(Convolution2D(32, 3, 3,activation='relu'))\n",
    "            model.add(Flatten())\n",
    "            model.add(Dense(256, activation='relu'))\n",
    "            model.add(Dense(env.num_actions, init='lecun_uniform'))\n",
    "            model.add(Activation('linear')) \n",
    "    \n",
    "            if model_name != None:\n",
    "                model.load_weights(model_name)\n",
    "                model.compile(loss=\"mse\", optimizer = RMSprop())\n",
    "                return model\n",
    "\n",
    "            else:\n",
    "                model.compile(loss=\"mse\", optimizer = RMSprop())\n",
    "                return model\n",
    "        \n",
    "    \n",
    "    def createTraining(self, minibatch):\n",
    "        X_train = []\n",
    "        y_train = []\n",
    "        for memory in minibatch:\n",
    "            old_state_m, action_m, reward_m, new_state_m,terminal_m = memory\n",
    "            #old_qval = self.model.predict(old_state_m.reshape(1,self.env.observation_shape), batch_size=1)\n",
    "            #newQ = self.model.predict(new_state_m.reshape(1,self.env.observation_shape), batch_size=1)\n",
    "            old_qval = self.model.predict(np.array((old_state_m,)), batch_size=1)\n",
    "            newQ = self.model.predict(np.array((new_state_m,)), batch_size=1)\n",
    "            maxQ = np.max(newQ)\n",
    "\n",
    "            y = np.zeros((1,self.env.num_actions))\n",
    "            y[:] = old_qval[:]\n",
    "\n",
    "            if not terminal_m:\n",
    "                update = (reward_m + (self.gamma * maxQ))\n",
    "            else:\n",
    "                update = reward_m\n",
    "\n",
    "            y[0][action_m] = update\n",
    "\n",
    "            #X_train.append(old_state_m.reshape(self.env.observation_shape,))\n",
    "            X_train.append(old_state_m)\n",
    "            y_train.append(y.reshape(self.env.num_actions,))\n",
    "\n",
    "        X_train = np.array(X_train)\n",
    "        y_train = np.array(y_train)\n",
    "\n",
    "        return X_train,y_train\n",
    "    \n",
    "    def graphLoss(self):\n",
    "        epochs = []\n",
    "        losses_A = []\n",
    "        count = 0\n",
    "        for y in self.losses:\n",
    "            losses_A.append(y[0])\n",
    "            epochs.append(count)\n",
    "            count = count + 1\n",
    "        plt.plot(epochs[:],losses_A[:])\n",
    "        \n",
    "    def train(self, epochs, episodes, max_episode_length,output_weights_name):\n",
    "        for i in range(epochs + 1):\n",
    "            for j in range(episodes):\n",
    "                terminal = False\n",
    "                self.env.reset()\n",
    "                \n",
    "                while(not terminal and self.env.t < max_episode_length):\n",
    "                    self.env.t += 1\n",
    "                    print (\"Epoch #: %s\" % (i,))\n",
    "                    print(\"Game #: %s\" % (j,))\n",
    "                    print (\"Timestep #: %s\" % (self.env.t,))\n",
    "                    print ('Epsilon : ', float(self.epsilon))\n",
    "                    self.env.print_grid()\n",
    "\n",
    "                    #Bookeeping\n",
    "                    curr_history = {}\n",
    "                    curr_history['t'] = self.env.t\n",
    "                    curr_history['curr_state'] = (self.env.cars_grid.copy(), self.env.cust_grid.copy())  \n",
    "\n",
    "                    #Step all agents 1 timestep\n",
    "                    all_agents_step = self.env.stepAll(self.model,self.epsilon)\n",
    "                    \n",
    "                    #More Bookeeping\n",
    "                    curr_history['actions'] = all_agents_step\n",
    "                    curr_history['next_state'] = (self.env.cars_grid.copy(), self.env.cust_grid.copy())\n",
    "                    self.env.history.append(curr_history)  \n",
    "\n",
    "                    #Check if terminal amount of cutomers picked up to end episode\n",
    "                    terminal = self.env.isTerminal()\n",
    "                    clear_output(wait=True)\n",
    "                    \n",
    "                    #Add memory to replay\n",
    "                    for memory in all_agents_step:\n",
    "                        self.replay.addToMemory(memory, terminal)\n",
    "\n",
    "                #After each game/episode fit the network with a minibatch sampled from the replay memory\n",
    "                if self.replay.isFull():\n",
    "                    minibatch = self.replay.getMinibatch()\n",
    "                    X_train, y_train = self.createTraining(minibatch)  \n",
    "                    history = LossHistory()\n",
    "                    self.model.fit(X_train, y_train, batch_size = self.replay.batchSize, nb_epoch=1, verbose=1,callbacks=[history])\n",
    "                    self.losses.append(history.losses)\n",
    "\n",
    "                #Append Bookept Hostory\n",
    "                self.all_games_history.append(self.env.history)\n",
    "\n",
    "            #Exponentially decay epsilon and run test metrics\n",
    "            if self.replay.isFull():\n",
    "                self.epsilon = self.epsilon * self.epsilon_decay\n",
    "                if np.mod(i,20) == 0:\n",
    "                    self.model.save_weights('weights/' + output_weights_name + '_'+ str(i) +'.h5', overwrite=True)"
   ]
  },
  {
   "cell_type": "markdown",
   "metadata": {},
   "source": [
    "## Train Model"
   ]
  },
  {
   "cell_type": "code",
   "execution_count": 6,
   "metadata": {
    "collapsed": false
   },
   "outputs": [],
   "source": [
    "obstacle_grid = np.array([[0,0,0,1,1,1,1,0,0,0],\n",
    "                          [0,0,0,1,1,1,1,0,0,0],\n",
    "                          [0,0,0,1,1,1,1,0,0,0],\n",
    "                          [0,0,0,1,1,1,1,0,0,0],\n",
    "                          [0,0,0,0,0,0,0,0,0,0],\n",
    "                          [0,0,0,0,0,0,0,0,0,0],\n",
    "                          [0,0,0,1,1,1,1,0,0,0],\n",
    "                          [0,0,0,1,1,1,1,0,0,0],\n",
    "                          [0,0,0,1,1,1,1,0,0,0],\n",
    "                          [0,0,0,1,1,1,1,0,0,0]])"
   ]
  },
  {
   "cell_type": "code",
   "execution_count": 11,
   "metadata": {
    "collapsed": false
   },
   "outputs": [],
   "source": [
    "memory = ReplayMemory(buffer = 50000, batchSize = 500)\n",
    "env = GridWorld(num_cars = 2, grid_size = 10, terminal_reward = 5, demand_limit = 2, obstacle_grid = obstacle_grid)\n",
    "dqn = DQN(memory = memory, env = env)"
   ]
  },
  {
   "cell_type": "code",
   "execution_count": 12,
   "metadata": {
    "collapsed": false,
    "scrolled": false
   },
   "outputs": [
    {
     "name": "stdout",
     "output_type": "stream",
     "text": [
      "Epoch 1/1\n",
      "500/500 [==============================] - 0s - loss: 0.0059\n"
     ]
    }
   ],
   "source": [
    "epochs = 300\n",
    "episodes = 30\n",
    "max_episode_length = 50\n",
    "output_weights_name = 'Gridworld_6x6_4Layer_Conv'\n",
    "\n",
    "dqn.train(epochs, episodes, max_episode_length, output_weights_name)"
   ]
  },
  {
   "cell_type": "code",
   "execution_count": 13,
   "metadata": {
    "collapsed": false
   },
   "outputs": [
    {
     "data": {
      "image/png": "[encoded data removed]",
      "text/plain": [
       "<matplotlib.figure.Figure at 0x7efc51587890>"
      ]
     },
     "metadata": {},
     "output_type": "display_data"
    }
   ],
   "source": [
    "dqn.graphLoss()"
   ]
  }
 ],
 "metadata": {
  "kernelspec": {
   "display_name": "Python 2",
   "language": "python",
   "name": "python2"
  },
  "language_info": {
   "codemirror_mode": {
    "name": "ipython",
    "version": 2
   },
   "file_extension": ".py",
   "mimetype": "text/x-python",
   "name": "python",
   "nbconvert_exporter": "python",
   "pygments_lexer": "ipython2",
   "version": "2.7.11"
  }
 },
 "nbformat": 4,
 "nbformat_minor": 0
}
